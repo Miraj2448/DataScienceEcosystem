{
 "cells": [
  {
   "cell_type": "markdown",
   "id": "756e24ed-b448-4a02-922c-da280495047c",
   "metadata": {},
   "source": [
    "## Data Science Tools and Ecosystem"
   ]
  },
  {
   "cell_type": "markdown",
   "id": "3da201c3-008e-41f0-88ef-f8d201d7e597",
   "metadata": {},
   "source": [
    "### In this notebook, Data Science Tools and Ecosystem are summrized"
   ]
  },
  {
   "cell_type": "markdown",
   "id": "529b72f9-9368-4364-9f11-3ab3c6fded96",
   "metadata": {},
   "source": [
    "Some of the popular language that Data Scientists use are:"
   ]
  },
  {
   "cell_type": "markdown",
   "id": "e6616570-0309-40e6-982c-1f302f7f2c40",
   "metadata": {},
   "source": [
    "1. Python\n",
    "2. R\n",
    "3. Scala\n",
    "4. SQL"
   ]
  },
  {
   "cell_type": "markdown",
   "id": "b4671114-cd78-445d-8de7-6df31f98d305",
   "metadata": {},
   "source": [
    "Some of the commonly used libraries used by Data Scientists include:"
   ]
  },
  {
   "cell_type": "markdown",
   "id": "55dc41e5-e9c3-44ee-b389-7e08c7216f30",
   "metadata": {},
   "source": [
    "1. Panda\n",
    "2. NumPy\n",
    "3. Matlpotlib\n",
    "4. TensorFlow\n",
    "5. Seaborn\n"
   ]
  },
  {
   "cell_type": "markdown",
   "id": "048a46d3-5442-4717-9a3c-0c6aba480b65",
   "metadata": {},
   "source": [
    "|DataScienceTools|\n",
    "|----|\n",
    "|GitHub|\n",
    "|Eclipse|\n",
    "|Visual Studio Code|"
   ]
  },
  {
   "cell_type": "markdown",
   "id": "1f1dd028-0c4d-4fa8-81a7-70c4b8362cf2",
   "metadata": {},
   "source": [
    "### Below are a few example of evaluating arithmetic expressions in Python."
   ]
  },
  {
   "cell_type": "markdown",
   "id": "ed8fd129-f126-49e0-992f-6f07be166a36",
   "metadata": {},
   "source": [
    "This a simple arithmetic expression to multiply the add integer\n"
   ]
  },
  {
   "cell_type": "code",
   "execution_count": 6,
   "id": "ab9f98d5-da7e-4d7e-b2b2-1cec13f0cb95",
   "metadata": {
    "tags": []
   },
   "outputs": [
    {
     "data": {
      "text/plain": [
       "17"
      ]
     },
     "execution_count": 6,
     "metadata": {},
     "output_type": "execute_result"
    }
   ],
   "source": [
    "(3*4)+5"
   ]
  },
  {
   "cell_type": "markdown",
   "id": "01a1935c-495a-4487-b187-0c8acca8db74",
   "metadata": {},
   "source": [
    "This will convert 200 minutes to hours by diving 60"
   ]
  },
  {
   "cell_type": "code",
   "execution_count": 9,
   "id": "281b3670-ddda-4d2a-8d05-cbbb2e6a975b",
   "metadata": {
    "tags": []
   },
   "outputs": [
    {
     "data": {
      "text/plain": [
       "3.3333333333333335"
      ]
     },
     "execution_count": 9,
     "metadata": {},
     "output_type": "execute_result"
    }
   ],
   "source": [
    "200/60"
   ]
  },
  {
   "cell_type": "markdown",
   "id": "204d3e87-ba07-435b-bf21-0493a4565563",
   "metadata": {},
   "source": [
    "## Some of the Key Takeaway from the courses."
   ]
  },
  {
   "cell_type": "markdown",
   "id": "d92a0684-c278-4cf5-96ea-852763ad61aa",
   "metadata": {},
   "source": [
    "### Objectives"
   ]
  },
  {
   "cell_type": "markdown",
   "id": "948841ec-9cff-40b5-8d3d-a93abebde198",
   "metadata": {},
   "source": [
    "1. Popular Data Science Language\n",
    "2. Popular Language used by Data Scientist\n",
    "3. How to Create table in Markdown cell\n",
    "4. Used Arithmetic expression\n",
    "5. Convert Minutes to hours\n"
   ]
  },
  {
   "cell_type": "markdown",
   "id": "c5493f5b-6201-4569-93a6-e4d31c6d2e5b",
   "metadata": {},
   "source": [
    "## Author: Miraj Virani"
   ]
  },
  {
   "cell_type": "code",
   "execution_count": null,
   "id": "45fc51a3-3e9e-4558-9b7a-7492c2b893a5",
   "metadata": {},
   "outputs": [],
   "source": []
  }
 ],
 "metadata": {
  "kernelspec": {
   "display_name": "Python",
   "language": "python",
   "name": "conda-env-python-py"
  },
  "language_info": {
   "codemirror_mode": {
    "name": "ipython",
    "version": 3
   },
   "file_extension": ".py",
   "mimetype": "text/x-python",
   "name": "python",
   "nbconvert_exporter": "python",
   "pygments_lexer": "ipython3",
   "version": "3.7.12"
  }
 },
 "nbformat": 4,
 "nbformat_minor": 5
}
